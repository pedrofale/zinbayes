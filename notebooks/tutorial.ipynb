{
 "cells": [
  {
   "cell_type": "markdown",
   "metadata": {},
   "source": [
    "# ZINBayes"
   ]
  },
  {
   "cell_type": "code",
   "execution_count": 1,
   "metadata": {},
   "outputs": [],
   "source": [
    "from zinbayes.zinbayes import ZINBayes"
   ]
  },
  {
   "cell_type": "code",
   "execution_count": 4,
   "metadata": {},
   "outputs": [],
   "source": [
    "import numpy as np"
   ]
  },
  {
   "cell_type": "markdown",
   "metadata": {},
   "source": [
    "## Data set: Pollen et al, 2014\n",
    "This data set contains 65 cells of four different types sequenced at low and high depth. We will use ZINBayes to visualize the cells in 2D with minimal technical bias.\n",
    "\n",
    "We first visualize some properties of the data."
   ]
  },
  {
   "cell_type": "markdown",
   "metadata": {},
   "source": [
    "## Run ZINBayes without batch annotations"
   ]
  },
  {
   "cell_type": "markdown",
   "metadata": {},
   "source": [
    "## Run ZINBayes with batch annotations"
   ]
  },
  {
   "cell_type": "code",
   "execution_count": null,
   "metadata": {},
   "outputs": [],
   "source": []
  },
  {
   "cell_type": "code",
   "execution_count": 16,
   "metadata": {},
   "outputs": [
    {
     "name": "stdout",
     "output_type": "stream",
     "text": [
      "Considering zero-inflation.\n",
      "Considering cell-specific scalings.\n",
      "100/100 [100%] ██████████████████████████████ Elapsed: 2s | Loss: 14.521\n"
     ]
    }
   ],
   "source": [
    "zinbayes = ZINBayes(n_components=2, n_mc_samples=1)\n",
    "z = zinbayes.fit_transform(np.array([[10, 30, 49], [11, 20, 29], [1, 3, 5], [4, 0, 2]]))"
   ]
  },
  {
   "cell_type": "code",
   "execution_count": 18,
   "metadata": {},
   "outputs": [
    {
     "data": {
      "text/plain": [
       "ZINBayes(X_test=None, batch_correction=False, minibatch_size=None,\n",
       "     n_components=2, n_mc_samples=1, optimizer=None, scalings=True,\n",
       "     test_iterations=100, validation=False, zero_inflation=True)"
      ]
     },
     "execution_count": 18,
     "metadata": {},
     "output_type": "execute_result"
    }
   ],
   "source": [
    "zinbayes"
   ]
  },
  {
   "cell_type": "code",
   "execution_count": null,
   "metadata": {},
   "outputs": [],
   "source": []
  }
 ],
 "metadata": {
  "kernelspec": {
   "display_name": "ZINBayes",
   "language": "python",
   "name": "venv"
  },
  "language_info": {
   "codemirror_mode": {
    "name": "ipython",
    "version": 3
   },
   "file_extension": ".py",
   "mimetype": "text/x-python",
   "name": "python",
   "nbconvert_exporter": "python",
   "pygments_lexer": "ipython3",
   "version": "3.5.2"
  }
 },
 "nbformat": 4,
 "nbformat_minor": 2
}
